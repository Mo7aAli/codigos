{
 "cells": [
  {
   "cell_type": "code",
   "execution_count": null,
   "id": "99e30dc4-bae3-4156-8740-4b33e1320580",
   "metadata": {},
   "outputs": [],
   "source": [
    "import threading as th, os, socket as sc, pickle as pc, sys"
   ]
  },
  {
   "cell_type": "code",
   "execution_count": 3,
   "id": "4d481dee-6a0c-46a4-8e94-707c847649d6",
   "metadata": {},
   "outputs": [
    {
     "ename": "NameError",
     "evalue": "name 'sc' is not defined",
     "output_type": "error",
     "traceback": [
      "\u001b[0;31m---------------------------------------------------------------------------\u001b[0m",
      "\u001b[0;31mNameError\u001b[0m                                 Traceback (most recent call last)",
      "Cell \u001b[0;32mIn [3], line 1\u001b[0m\n\u001b[0;32m----> 1\u001b[0m \u001b[38;5;28;01mclass\u001b[39;00m \u001b[38;5;21;01mClient\u001b[39;00m():\n\u001b[1;32m      3\u001b[0m     \u001b[38;5;28;01mdef\u001b[39;00m \u001b[38;5;21m_init_\u001b[39m(\u001b[38;5;28mself\u001b[39m, host \u001b[38;5;241m=\u001b[39m sc\u001b[38;5;241m.\u001b[39mgethostname(), port \u001b[38;5;241m=\u001b[39m \u001b[38;5;28mint\u001b[39m (\u001b[38;5;28minput\u001b[39m(\u001b[38;5;124m\"\u001b[39m\u001b[38;5;124mIntriduce Port\u001b[39m\u001b[38;5;124m\"\u001b[39m)), nick \u001b[38;5;241m=\u001b[39m \u001b[38;5;28minput\u001b[39m(\u001b[38;5;124m\"\u001b[39m\u001b[38;5;124mIsert your nickname\u001b[39m\u001b[38;5;124m\"\u001b[39m)):\n\u001b[1;32m      4\u001b[0m         \u001b[38;5;28mprint\u001b[39m(\u001b[38;5;124m'\u001b[39m\u001b[38;5;124mhola\u001b[39m\u001b[38;5;124m'\u001b[39m)\n",
      "Cell \u001b[0;32mIn [3], line 3\u001b[0m, in \u001b[0;36mClient\u001b[0;34m()\u001b[0m\n\u001b[1;32m      1\u001b[0m \u001b[38;5;28;01mclass\u001b[39;00m \u001b[38;5;21;01mClient\u001b[39;00m():\n\u001b[0;32m----> 3\u001b[0m     \u001b[38;5;28;01mdef\u001b[39;00m \u001b[38;5;21m_init_\u001b[39m(\u001b[38;5;28mself\u001b[39m, host \u001b[38;5;241m=\u001b[39m \u001b[43msc\u001b[49m\u001b[38;5;241m.\u001b[39mgethostname(), port \u001b[38;5;241m=\u001b[39m \u001b[38;5;28mint\u001b[39m (\u001b[38;5;28minput\u001b[39m(\u001b[38;5;124m\"\u001b[39m\u001b[38;5;124mIntriduce Port\u001b[39m\u001b[38;5;124m\"\u001b[39m)), nick \u001b[38;5;241m=\u001b[39m \u001b[38;5;28minput\u001b[39m(\u001b[38;5;124m\"\u001b[39m\u001b[38;5;124mIsert your nickname\u001b[39m\u001b[38;5;124m\"\u001b[39m)):\n\u001b[1;32m      4\u001b[0m         \u001b[38;5;28mprint\u001b[39m(\u001b[38;5;124m'\u001b[39m\u001b[38;5;124mhola\u001b[39m\u001b[38;5;124m'\u001b[39m)\n\u001b[1;32m      6\u001b[0m         \u001b[38;5;28mself\u001b[39m\u001b[38;5;241m.\u001b[39ms \u001b[38;5;241m=\u001b[39m sc\u001b[38;5;241m.\u001b[39msocket()\n",
      "\u001b[0;31mNameError\u001b[0m: name 'sc' is not defined"
     ]
    }
   ],
   "source": [
    "class Client():\n",
    "    \n",
    "    def _init_(self, host = sc.gethostname(), port = int (input(\"Intriduce Port\")), nick = input(\"Isert your nickname\")):\n",
    "        print('hola')\n",
    "        \n",
    "        self.s = sc.socket()\n",
    "        self.s.connect((host, puerto))\n",
    "        self.send('$' + nick)\n",
    "        th.Thread(target = self.recive, daemon = True).start()\n",
    "        \n",
    "        while True:\n",
    "            msg = input (\"Insert your IP address \")\n",
    "            msg = input (\"Type a massage  <<Enter= Enviar --> 1 = leave / salir \")\n",
    "            if msg == '1': self.send(msg)\n",
    "            else:\n",
    "                self.s.close()\n",
    "                sys.exit(\"GoodBye\")\n",
    "                \n",
    "            \n",
    "            "
   ]
  },
  {
   "cell_type": "code",
   "execution_count": null,
   "id": "7c1a2b85-f067-4454-b3d3-d32e18780b08",
   "metadata": {},
   "outputs": [],
   "source": []
  },
  {
   "cell_type": "code",
   "execution_count": null,
   "id": "ab4c60f5-0fd7-4d4a-b613-f27690b3ba3a",
   "metadata": {},
   "outputs": [],
   "source": []
  }
 ],
 "metadata": {
  "kernelspec": {
   "display_name": "Python 3 (ipykernel)",
   "language": "python",
   "name": "python3"
  },
  "language_info": {
   "codemirror_mode": {
    "name": "ipython",
    "version": 3
   },
   "file_extension": ".py",
   "mimetype": "text/x-python",
   "name": "python",
   "nbconvert_exporter": "python",
   "pygments_lexer": "ipython3",
   "version": "3.10.7"
  },
  "toc-autonumbering": true,
  "toc-showtags": false
 },
 "nbformat": 4,
 "nbformat_minor": 5
}
